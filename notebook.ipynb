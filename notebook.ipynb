{
 "cells": [
  {
   "cell_type": "code",
   "execution_count": 3,
   "metadata": {},
   "outputs": [],
   "source": [
    "!pip install --upgrade --quiet pinecone-client pinecone-text pinecone-notebooks"
   ]
  },
  {
   "cell_type": "code",
   "execution_count": 4,
   "metadata": {},
   "outputs": [],
   "source": [
    "from langchain_community.retrievers import PineconeHybridSearchRetriever"
   ]
  },
  {
   "cell_type": "code",
   "execution_count": 7,
   "metadata": {},
   "outputs": [],
   "source": [
    "api_key = \"pcsk_3cLEbT_RP7dEJo2baFKSdv3ZabBAiLpmURzsuuCzjpuyxSxt6gBmMddxMRFsT1dWYvKipj\"\n",
    "import os\n",
    "from pinecone import Pinecone, ServerlessSpec\n",
    "index_name = \"rag-exmp\"\n",
    "pc = Pinecone(api_key = api_key)\n",
    "\n",
    "if index_name not in pc.list_indexes().names():\n",
    "    pc.create_index(\n",
    "        name = index_name,\n",
    "        dimension = 384,\n",
    "        metric = \"dotproduct\",\n",
    "        spec = ServerlessSpec(cloud='aws',region='us-east-1')\n",
    "    )"
   ]
  },
  {
   "cell_type": "code",
   "execution_count": 8,
   "metadata": {},
   "outputs": [
    {
     "data": {
      "text/plain": [
       "<pinecone.data.index.Index at 0x1ef0c17ac60>"
      ]
     },
     "execution_count": 8,
     "metadata": {},
     "output_type": "execute_result"
    }
   ],
   "source": [
    "index = pc.Index(index_name)\n",
    "index"
   ]
  },
  {
   "cell_type": "code",
   "execution_count": 13,
   "metadata": {},
   "outputs": [
    {
     "data": {
      "text/plain": [
       "HuggingFaceEmbeddings(model_name='all-MiniLM-L6-v2', cache_folder=None, model_kwargs={}, encode_kwargs={}, query_encode_kwargs={}, multi_process=False, show_progress=False)"
      ]
     },
     "execution_count": 13,
     "metadata": {},
     "output_type": "execute_result"
    }
   ],
   "source": [
    "from dotenv import load_dotenv\n",
    "load_dotenv()\n",
    "\n",
    "os.environ[\"HF_TOKEN\"] = os.getenv(\"HF_TOKEN\")\n",
    "from langchain_huggingface import HuggingFaceEmbeddings\n",
    "embed = HuggingFaceEmbeddings(model_name=\"all-MiniLM-L6-v2\")\n",
    "embed"
   ]
  },
  {
   "cell_type": "code",
   "execution_count": 14,
   "metadata": {},
   "outputs": [
    {
     "name": "stderr",
     "output_type": "stream",
     "text": [
      "[nltk_data] Downloading package punkt_tab to\n",
      "[nltk_data]     C:\\Users\\athar\\AppData\\Roaming\\nltk_data...\n",
      "[nltk_data]   Unzipping tokenizers\\punkt_tab.zip.\n"
     ]
    },
    {
     "data": {
      "text/plain": [
       "<pinecone_text.sparse.bm25_encoder.BM25Encoder at 0x1ef4d9b1850>"
      ]
     },
     "execution_count": 14,
     "metadata": {},
     "output_type": "execute_result"
    }
   ],
   "source": [
    "from pinecone_text.sparse import BM25Encoder\n",
    "\n",
    "bm2_encoder = BM25Encoder().default()\n",
    "bm2_encoder"
   ]
  },
  {
   "cell_type": "code",
   "execution_count": 15,
   "metadata": {},
   "outputs": [
    {
     "name": "stderr",
     "output_type": "stream",
     "text": [
      "100%|██████████| 3/3 [00:00<00:00, 52.25it/s]\n"
     ]
    }
   ],
   "source": [
    "sent = [\n",
    "    \"India is my country\",\n",
    "    \"India is beutiful country\",\n",
    "    \"India has powerfull defense system\"\n",
    "]\n",
    "\n",
    "bm2_encoder.fit(sent)   #apply TF-IDF values \n",
    "\n",
    "bm2_encoder.dump(\"bm2_values.json\")\n"
   ]
  },
  {
   "cell_type": "code",
   "execution_count": 61,
   "metadata": {},
   "outputs": [],
   "source": [
    "retriever = PineconeHybridSearchRetriever(embeddings=embed,sparse_encoder=bm2_encoder,index=index)"
   ]
  },
  {
   "cell_type": "code",
   "execution_count": 62,
   "metadata": {},
   "outputs": [
    {
     "data": {
      "text/plain": [
       "PineconeHybridSearchRetriever(embeddings=HuggingFaceEmbeddings(model_name='all-MiniLM-L6-v2', cache_folder=None, model_kwargs={}, encode_kwargs={}, query_encode_kwargs={}, multi_process=False, show_progress=False), sparse_encoder=<pinecone_text.sparse.bm25_encoder.BM25Encoder object at 0x000001EF4D9B1850>, index=<pinecone.data.index.Index object at 0x000001EF0C17AC60>)"
      ]
     },
     "execution_count": 62,
     "metadata": {},
     "output_type": "execute_result"
    }
   ],
   "source": [
    "retriever"
   ]
  },
  {
   "cell_type": "code",
   "execution_count": 18,
   "metadata": {},
   "outputs": [
    {
     "name": "stderr",
     "output_type": "stream",
     "text": [
      "100%|██████████| 1/1 [00:02<00:00,  2.17s/it]\n"
     ]
    }
   ],
   "source": [
    "retriever.add_texts(\n",
    "    [\n",
    "    \"India is my country\",\n",
    "    \"India is beutiful country\",\n",
    "    \"India has powerfull defense system\"\n",
    "    ]\n",
    ")"
   ]
  },
  {
   "cell_type": "code",
   "execution_count": 25,
   "metadata": {},
   "outputs": [],
   "source": [
    "info = retriever.invoke(\"tell me about India\")"
   ]
  },
  {
   "cell_type": "code",
   "execution_count": 30,
   "metadata": {},
   "outputs": [
    {
     "data": {
      "text/plain": [
       "[Document(metadata={'score': 0.374628544}, page_content='India is beutiful country'),\n",
       " Document(metadata={'score': 0.3610484}, page_content='India is my country'),\n",
       " Document(metadata={'score': 0.279743701}, page_content='India has powerfull defense system')]"
      ]
     },
     "execution_count": 30,
     "metadata": {},
     "output_type": "execute_result"
    }
   ],
   "source": [
    "info"
   ]
  },
  {
   "cell_type": "code",
   "execution_count": 38,
   "metadata": {},
   "outputs": [
    {
     "name": "stdout",
     "output_type": "stream",
     "text": [
      "['A Brief Introduction to Artificial IntelligenceWhat is AI and how is it going to shape the futureBy Dibbyo Saha, Undergraduate Student, Computer Science,Ryerson University\\nWhat is Artificial Intelligence?\\nImage by Gerd Altmann from Pixabay\\nGenerally speaking, Artificial Intelligence is a computing concept that helps amachinethinkandsolvecomplexproblemsaswehumansdowithourintelligence.For example, we performa task, make mistakes and learn fromour mistakes (Atleast thewiseonesofusdo!).Likewise,anAIorArtificialIntelligenceissupposedtoworkonaproblem, makesomemistakes insolvingtheproblemandlearnfromthe problems in a self-correcting manner as a part of its self-improvement. Or inother words, thinkof this likeplayingagameof chess.Everybadmoveyoumakereduces your chances of winning the game. So, every time you loseagainst yourfriend, you try remembering the moves you made which you shouldn’t have andapplythat knowledgeinyour next gameandsoon. Eventually, youget better andyour precision, or in this case probability of winning or solving a problem\\n', 'improves by a noteworthy extent. AI is programmed to do something similar tothat!Artificial Intelligence vs Traditional Robotics\\nPhoto by Possessed Photography on Unsplash\\nWhen we hear the word “Robot”, an image of a metal box with creepyeyes andspeaking in a mechanical voice pops into our head. I mean that’s what we havebeenwatchingintelevisionfor years, isn’tit?Andtoacertaindegreeweareright.Traditional robotics has been perceived by pop culture as an arena that createshumanlike machines to work for us as saviours and sometimes as super-villainsbringing in a cascade of tyranny into the human world. However, real liferobotsaren’t as humanlikeas wewantthemtobe,yet.Theyareprogrammedinaspecificway to only execute tasks that it has been programmedto perform.\\nImagineaself-drivingcarthathasbeendesignedtodriveyouonitsownaccordingtowhereyouinstruct it totakeyou. Nowfor atraditionalrobot,thecarisgoingtogothroughtheexact roadthatitwasprogrammedtoselectforacertaindestinationby its creators, possibly without the knowledge of traffic and cause accidents.However, a human driver would have chosen the shortest path or check whichpaths have the least traffic today and would be the most convenient pathfor thatparticular destination. That is theexact humanlikecreativethinkingthetraditionalrobots lack! They are fixed in their own “not so smart” way and are largelydependent ontheprogramtheyarebuilt onandtheinstructionsthattheyarebeinggiven. If acertaininstructiondoesn’t coincidewiththeir program, therobot won’teven be able to run, let alone going the extra step of being creative. This is thelimitation of traditional robots Artificial Intelligence is being developed toovercome. Unlike the conventional “bips and bops”, a good AI will simulate the\\n', 'complicated and intuitive sense of thinking and problem-solving abilities of thehuman mind.\\nA Brief History of AI\\nTheconcept of Artificial Intelligenceis notasmodernaswethinkitis.Thistracesbacktoas earlyas 1950whenAlanTuringinventedtheTuringtest.Thenthefirstchatbot computerprogram,ELIZA,wascreatedinthe1960s.\\n[1]\\nIBMdeepbluewasa chess computer made in 1977 beat a world chess champion in two out of sixgames, one won by the champion and the other threegames were draw.\\n[2]\\nIn 2011, Siri was announced as a digital assistantby Apple.\\n[3]\\nElon Musk and some others founded OpenAI in 2015.\\n[4][5]\\nArtificial Intelligence vs Machine Learning vs DeepLearning\\nImage by Gerd Altmann from Pixabay \\nUp until nowin this article we were discussing about Artificial Intelligence as aprocess that isgoingtohelpmachinesachieveahumanlikementalbehaviour.AIisa vast and growing field which also includes a lot more subfields like machinelearninganddeeplearningandsoon.Machinelearningisinanutshelltheconceptof computers learning to improve their predictions and creativity to resemble ahumanlikethinkingprocess usingalgorithms. Machinelearninginvolvesanumberof learning processes such as:\\nSupervised learning: Supervised learning is a process where our machinesaredesignedtolearnwiththefeedingof labelleddata.Inthisprocessourmachine\\n', 'is being trained by giving it access to a huge amount of data and training themachine to analyze it. For instance, the machine is given a number of images ofdogs taken frommany different angles with colour variations, breeds and manymore diversity. So that, the machine learns to analyze data from these diverseimages of dogs and the “insight” of machines keep increasing and soon themachinecanpredict ifit’sadogfromawholedifferentpicturewhichwasnotevena part of the labelled data set of dog images themachine was fed earlier.\\nUnsupervised learning: Contrary to the supervised learning, theunsupervised learning algorithms comprises analyzing unlabelled data i.e., inthiscase we are training the machine to analyze and learn froma series of data, themeaning of which is not apparently comprehendible by the human eyes. Themachine looks for patterns anddraws conclusions onits ownfromthepatterns ofthe data. Important thing to remember that the dataset usedinthis instanceis notlabelled and the conclusions are drawn by the machines.\\nReinforcement learning: Reinforcement learning is a feedback dependentmachine learning model. In this process the machine is givenadataandmadetopredict what thedatawas. If themachinegeneratesaninaccurateconclusionabouttheinput data, themachineis givenfeedbackaboutitsincorrectness.Forexample,ifyougivethemachineanimageofabasketballanditidentifiesthebasketballasatennis ball or something else, you give a negative feedback to the machine andeventuallythemachinelearns toidentifyanimageofabasketballonitsownwhenit comes across a completely different picture ofa basketball.\\n', 'Source:http://datasciencecentral.com\\nDeep Learning, on the other hand is the concept of computers simulating theprocess ahumanbraintakes toanalyze, thinkandlearn.Thedeeplearningprocessinvolves somethingcalledaneural networkas apartofthethinkingprocessforanAI. It takes anenormous amount of datatotraindeeplearningandaconsiderablypowerful computing device for such computation methods.\\nAI at Work Today\\nPhoto by Dan Seifert / The Verge\\nThe most common examples of uses of Artificial Intelligencecanbefoundtodayinsmart personal assistants likeApple’s Siri andAmazon’s Alexa. Peopleinteractwith these devices to command themon a daily basis and these devices use thecommands as a part of their dataset to learn from. Another known example ofArtificial Intelligence is the use of algorithms in Netflix. Netflix provides verymuchaccurateandrelevant suggestionsofmovies,tvseriesfromourdatawhichiscreated every time we streamor click onsomethinginNetflix. As thedataset forthese systems grows, their accuracy and precision increase as well. Artificial\\n', 'Intelligenceis alsoviewedas agreat tool for better cybersecurity.Manybanksareusing AI as a means to identify unauthorized credit cards uses. Fromanalyzingcomplexgeneticdatatoperformthemostdelicatesurgeriesatthehighestprecisionis also being worked on to integrate with AI. We all knowabout companies likeTeslaandAppleworkingtomakeflawlessself-drivingcarswhichisgoingtohavegame changing impacts on the future of transportation.\\nConcerns about AI\\nOne of the most immediate concerns about Artificial Intelligence is the fear oflosing jobs. Artificial Intelligence enhancing automation is also causing hugejoblosses aroundtheworld. AccordingtoaForbes article, it is predictedthatby2025automation will cause a loss of 85 million jobs.\\n[6] \\nBigger fears regarding AIincludes thescenariowhereas machines becomesmarter andsmartertheygoingtoend up being as opinionated and biased like some of the people training it.Automatization of weapons is also a big reason people worry about thefutureofArtificial Intelligence. The idea that weapons can be used to search and targetsomeonewithpre-programmedinstructions andthemisuseofthisbygovernmentsor mafias or rogue AI can be something very deadly and devastating. However,there are many myths in disguise of concerns surrounding AI that spreads panicandmisinformation. AI todayis nowherenear tobecomeasuper-intelligententityand turn into our overlords like in sci-fi movies. However, heavyregulations andcautions are being advised by Big Tech giants like Elon Musk while developingthis industry.\\nArtificial Intelligence and The Future\\nIt is said that AI is thegreatest thinghumankindhas ever workedon. AI is beingused in image and speech recognition and analysis which will be far better thanhuman recognition of image and speech and its applicationstretches wide and far.ThereareresearchandworksbeingconductedusingAIthatisgoingtoplayaveryimportant roleinour futurehealthcare. AI is beingworkedontocureAlzheimer’sdisease and someday even blindness. Someone with dyslexia is being helped toread better with the help of AI. Geneticdatais beinganalyzedbybioinformatics;data science integrated with AI for waybetter dataanalysis inhealthcarethat hasnot been possible for us in the past. Fields like cancer research and other suchdiseases are being impacted greatly by advanced applications of AI. AI can be a', 'great tool in the future of education. AI can be used to analyze data fromanindividual’s personal andintellectual needs, capabilities, choicesandlimitationstodevelop customized curriculum, strategies and schedules that will be more wellsuited, appeallingandinclusiveof most, if not all,childrenandadults.TheusesofAI are also going to change the way we are going to commute in the future. Inaddition to self-driving cars, work is being done to manufacture “self-flying”planes anddrones that convenientlydeliver your foodfaster andbetter.Oneofthebiggest concerns about AI is that jobs are being replaced due to automation.However, AI might be creating more jobs than it replaces. This will change theway humans work by creating new types of jobs.\\nSource: https://hackernoon.com/artificial-intelligence-and-big-data-zys3258\\nAI is still in a fairlypreliminary(but rapidlygrowing) stagetodayandit requiresmore and more training to develop. Trainers, engineers, system designers andsoftware developer jobs in machine learning, data science and many suchrelatedfields are being createdinabundance. Newbusiness andinvestment opportunitiesare also on the rise due to endless AI applications in agriculture, education,transportation, finance, biotechnology, cybersecurity, gaming etc. As newbusinesses are being created so are new jobs. Many existing jobs are becoming\\n', 'redefined and more specialised which is really important for the new world toprosper and advance.Towards Conclusion…\\nThe growth of Artificial Intelligence in recent times has been exponential. Wecannot evenimaginehowbigandimpactfulAIisgoingtobeinthenearfutureandhowdrasticallyit is goingtochangeandupgradetheworldweliveintoday.Thereare a lot more to learn about AI andits rapidlygrowingapplications inour life. Ibelieve it wouldbewisetoadapt tothis changingworldandacquireskills relatedto Artificial Intelligence and technology. Just like AI learns and develops, weshould too - to make this world a better place.', 'References:\\n[1]\\nhttps://news.harvard.edu/gazette/story/2012/09/alan-turing-at-100/\\n[2]\\nhttps://www.ibm.com/ibm/history/ibm100/us/en/icons/deepblue/\\n[3]\\nhttps://www.firstpost.com/tech/news-analysis/siri-google-now-and-cortana-how-digital-assistants-predict-what-you-need-3671725.html\\n[4]\\nhttps://openai.com/blog/introducing-openai/\\n[5]\\nhttps://www.bbc.com/news/technology-35082344\\n[6]\\nhttps://www.forbes.com/sites/jackkelly/2020/10/27/us-lost-over-60-million-jobs-now-robots-tech-and-artificial-intelligence-will-take-millions-more/?sh=57d352421a52']\n"
     ]
    }
   ],
   "source": [
    "from pypdf import PdfReader\n",
    "\n",
    "def extract_text_from_pdf(pdf_path):\n",
    "    text = []\n",
    "    with open(pdf_path, 'rb') as pdf_file:\n",
    "        reader = PdfReader(pdf_file)\n",
    "        for page in reader.pages:\n",
    "            text.append(page.extract_text())\n",
    "    return text\n",
    "\n",
    "pdf_path = 'into_to_AI.pdf'\n",
    "extracted_text = extract_text_from_pdf(pdf_path)\n",
    "print((extracted_text))"
   ]
  },
  {
   "cell_type": "code",
   "execution_count": 63,
   "metadata": {},
   "outputs": [
    {
     "name": "stderr",
     "output_type": "stream",
     "text": [
      "100%|██████████| 1/1 [00:03<00:00,  3.45s/it]\n"
     ]
    }
   ],
   "source": [
    "retriever.add_texts(extracted_text)"
   ]
  },
  {
   "cell_type": "code",
   "execution_count": 64,
   "metadata": {},
   "outputs": [],
   "source": [
    "inf = retriever.invoke(\"history of AI?\")"
   ]
  },
  {
   "cell_type": "code",
   "execution_count": 66,
   "metadata": {},
   "outputs": [
    {
     "data": {
      "text/plain": [
       "'redefined and more specialised which is really important for the new world toprosper and advance.Towards Conclusion…\\nThe growth of Artificial Intelligence in recent times has been exponential. Wecannot evenimaginehowbigandimpactfulAIisgoingtobeinthenearfutureandhowdrasticallyit is goingtochangeandupgradetheworldweliveintoday.Thereare a lot more to learn about AI andits rapidlygrowingapplications inour life. Ibelieve it wouldbewisetoadapt tothis changingworldandacquireskills relatedto Artificial Intelligence and technology. Just like AI learns and develops, weshould too - to make this world a better place.'"
      ]
     },
     "execution_count": 66,
     "metadata": {},
     "output_type": "execute_result"
    }
   ],
   "source": [
    "inf[0].page_content"
   ]
  },
  {
   "cell_type": "code",
   "execution_count": 48,
   "metadata": {},
   "outputs": [
    {
     "data": {
      "text/plain": [
       "[Document(metadata={'producer': 'Skia/PDF m92 Google Docs Renderer', 'creator': 'PyPDF', 'creationdate': '2021-05-05T13:04:55+01:00', 'moddate': '2021-05-05T13:04:55+01:00', 'subject': 'Article about artificial intelligence (AI) written by Ryerson Computer Science student, Dibbyo Saha, for Science Rendezvous.', 'title': 'A Brief Introduction to Artificial Intelligence', 'source': 'into_to_AI.pdf', 'total_pages': 9, 'page': 0, 'page_label': '1'}, page_content='A Brief Introduction to Artificial IntelligenceWhat is AI and how is it going to shape the futureBy Dibbyo Saha, Undergraduate Student, Computer Science,Ryerson University\\nWhat is Artificial Intelligence?\\nImage by Gerd Altmann from Pixabay\\nGenerally speaking, Artificial Intelligence is a computing concept that helps amachinethinkandsolvecomplexproblemsaswehumansdowithourintelligence.For example, we performa task, make mistakes and learn fromour mistakes (Atleast thewiseonesofusdo!).Likewise,anAIorArtificialIntelligenceissupposedtoworkonaproblem, makesomemistakes insolvingtheproblemandlearnfromthe problems in a self-correcting manner as a part of its self-improvement. Or inother words, thinkof this likeplayingagameof chess.Everybadmoveyoumakereduces your chances of winning the game. So, every time you loseagainst yourfriend, you try remembering the moves you made which you shouldn’t have andapplythat knowledgeinyour next gameandsoon. Eventually, youget better andyour precision, or in this case probability of winning or solving a problem'),\n",
       " Document(metadata={'producer': 'Skia/PDF m92 Google Docs Renderer', 'creator': 'PyPDF', 'creationdate': '2021-05-05T13:04:55+01:00', 'moddate': '2021-05-05T13:04:55+01:00', 'subject': 'Article about artificial intelligence (AI) written by Ryerson Computer Science student, Dibbyo Saha, for Science Rendezvous.', 'title': 'A Brief Introduction to Artificial Intelligence', 'source': 'into_to_AI.pdf', 'total_pages': 9, 'page': 1, 'page_label': '2'}, page_content='improves by a noteworthy extent. AI is programmed to do something similar tothat!Artificial Intelligence vs Traditional Robotics\\nPhoto by Possessed Photography on Unsplash\\nWhen we hear the word “Robot”, an image of a metal box with creepyeyes andspeaking in a mechanical voice pops into our head. I mean that’s what we havebeenwatchingintelevisionfor years, isn’tit?Andtoacertaindegreeweareright.Traditional robotics has been perceived by pop culture as an arena that createshumanlike machines to work for us as saviours and sometimes as super-villainsbringing in a cascade of tyranny into the human world. However, real liferobotsaren’t as humanlikeas wewantthemtobe,yet.Theyareprogrammedinaspecificway to only execute tasks that it has been programmedto perform.\\nImagineaself-drivingcarthathasbeendesignedtodriveyouonitsownaccordingtowhereyouinstruct it totakeyou. Nowfor atraditionalrobot,thecarisgoingtogothroughtheexact roadthatitwasprogrammedtoselectforacertaindestinationby its creators, possibly without the knowledge of traffic and cause accidents.However, a human driver would have chosen the shortest path or check whichpaths have the least traffic today and would be the most convenient pathfor thatparticular destination. That is theexact humanlikecreativethinkingthetraditionalrobots lack! They are fixed in their own “not so smart” way and are largelydependent ontheprogramtheyarebuilt onandtheinstructionsthattheyarebeinggiven. If acertaininstructiondoesn’t coincidewiththeir program, therobot won’teven be able to run, let alone going the extra step of being creative. This is thelimitation of traditional robots Artificial Intelligence is being developed toovercome. Unlike the conventional “bips and bops”, a good AI will simulate the'),\n",
       " Document(metadata={'producer': 'Skia/PDF m92 Google Docs Renderer', 'creator': 'PyPDF', 'creationdate': '2021-05-05T13:04:55+01:00', 'moddate': '2021-05-05T13:04:55+01:00', 'subject': 'Article about artificial intelligence (AI) written by Ryerson Computer Science student, Dibbyo Saha, for Science Rendezvous.', 'title': 'A Brief Introduction to Artificial Intelligence', 'source': 'into_to_AI.pdf', 'total_pages': 9, 'page': 2, 'page_label': '3'}, page_content='complicated and intuitive sense of thinking and problem-solving abilities of thehuman mind.\\nA Brief History of AI\\nTheconcept of Artificial Intelligenceis notasmodernaswethinkitis.Thistracesbacktoas earlyas 1950whenAlanTuringinventedtheTuringtest.Thenthefirstchatbot computerprogram,ELIZA,wascreatedinthe1960s.\\n[1]\\nIBMdeepbluewasa chess computer made in 1977 beat a world chess champion in two out of sixgames, one won by the champion and the other threegames were draw.\\n[2]\\nIn 2011, Siri was announced as a digital assistantby Apple.\\n[3]\\nElon Musk and some others founded OpenAI in 2015.\\n[4][5]\\nArtificial Intelligence vs Machine Learning vs DeepLearning\\nImage by Gerd Altmann from Pixabay \\nUp until nowin this article we were discussing about Artificial Intelligence as aprocess that isgoingtohelpmachinesachieveahumanlikementalbehaviour.AIisa vast and growing field which also includes a lot more subfields like machinelearninganddeeplearningandsoon.Machinelearningisinanutshelltheconceptof computers learning to improve their predictions and creativity to resemble ahumanlikethinkingprocess usingalgorithms. Machinelearninginvolvesanumberof learning processes such as:\\nSupervised learning: Supervised learning is a process where our machinesaredesignedtolearnwiththefeedingof labelleddata.Inthisprocessourmachine'),\n",
       " Document(metadata={'producer': 'Skia/PDF m92 Google Docs Renderer', 'creator': 'PyPDF', 'creationdate': '2021-05-05T13:04:55+01:00', 'moddate': '2021-05-05T13:04:55+01:00', 'subject': 'Article about artificial intelligence (AI) written by Ryerson Computer Science student, Dibbyo Saha, for Science Rendezvous.', 'title': 'A Brief Introduction to Artificial Intelligence', 'source': 'into_to_AI.pdf', 'total_pages': 9, 'page': 3, 'page_label': '4'}, page_content='is being trained by giving it access to a huge amount of data and training themachine to analyze it. For instance, the machine is given a number of images ofdogs taken frommany different angles with colour variations, breeds and manymore diversity. So that, the machine learns to analyze data from these diverseimages of dogs and the “insight” of machines keep increasing and soon themachinecanpredict ifit’sadogfromawholedifferentpicturewhichwasnotevena part of the labelled data set of dog images themachine was fed earlier.\\nUnsupervised learning: Contrary to the supervised learning, theunsupervised learning algorithms comprises analyzing unlabelled data i.e., inthiscase we are training the machine to analyze and learn froma series of data, themeaning of which is not apparently comprehendible by the human eyes. Themachine looks for patterns anddraws conclusions onits ownfromthepatterns ofthe data. Important thing to remember that the dataset usedinthis instanceis notlabelled and the conclusions are drawn by the machines.\\nReinforcement learning: Reinforcement learning is a feedback dependentmachine learning model. In this process the machine is givenadataandmadetopredict what thedatawas. If themachinegeneratesaninaccurateconclusionabouttheinput data, themachineis givenfeedbackaboutitsincorrectness.Forexample,ifyougivethemachineanimageofabasketballanditidentifiesthebasketballasatennis ball or something else, you give a negative feedback to the machine andeventuallythemachinelearns toidentifyanimageofabasketballonitsownwhenit comes across a completely different picture ofa basketball.'),\n",
       " Document(metadata={'producer': 'Skia/PDF m92 Google Docs Renderer', 'creator': 'PyPDF', 'creationdate': '2021-05-05T13:04:55+01:00', 'moddate': '2021-05-05T13:04:55+01:00', 'subject': 'Article about artificial intelligence (AI) written by Ryerson Computer Science student, Dibbyo Saha, for Science Rendezvous.', 'title': 'A Brief Introduction to Artificial Intelligence', 'source': 'into_to_AI.pdf', 'total_pages': 9, 'page': 4, 'page_label': '5'}, page_content='Source:http://datasciencecentral.com\\nDeep Learning, on the other hand is the concept of computers simulating theprocess ahumanbraintakes toanalyze, thinkandlearn.Thedeeplearningprocessinvolves somethingcalledaneural networkas apartofthethinkingprocessforanAI. It takes anenormous amount of datatotraindeeplearningandaconsiderablypowerful computing device for such computation methods.\\nAI at Work Today\\nPhoto by Dan Seifert / The Verge\\nThe most common examples of uses of Artificial Intelligencecanbefoundtodayinsmart personal assistants likeApple’s Siri andAmazon’s Alexa. Peopleinteractwith these devices to command themon a daily basis and these devices use thecommands as a part of their dataset to learn from. Another known example ofArtificial Intelligence is the use of algorithms in Netflix. Netflix provides verymuchaccurateandrelevant suggestionsofmovies,tvseriesfromourdatawhichiscreated every time we streamor click onsomethinginNetflix. As thedataset forthese systems grows, their accuracy and precision increase as well. Artificial'),\n",
       " Document(metadata={'producer': 'Skia/PDF m92 Google Docs Renderer', 'creator': 'PyPDF', 'creationdate': '2021-05-05T13:04:55+01:00', 'moddate': '2021-05-05T13:04:55+01:00', 'subject': 'Article about artificial intelligence (AI) written by Ryerson Computer Science student, Dibbyo Saha, for Science Rendezvous.', 'title': 'A Brief Introduction to Artificial Intelligence', 'source': 'into_to_AI.pdf', 'total_pages': 9, 'page': 5, 'page_label': '6'}, page_content='Intelligenceis alsoviewedas agreat tool for better cybersecurity.Manybanksareusing AI as a means to identify unauthorized credit cards uses. Fromanalyzingcomplexgeneticdatatoperformthemostdelicatesurgeriesatthehighestprecisionis also being worked on to integrate with AI. We all knowabout companies likeTeslaandAppleworkingtomakeflawlessself-drivingcarswhichisgoingtohavegame changing impacts on the future of transportation.\\nConcerns about AI\\nOne of the most immediate concerns about Artificial Intelligence is the fear oflosing jobs. Artificial Intelligence enhancing automation is also causing hugejoblosses aroundtheworld. AccordingtoaForbes article, it is predictedthatby2025automation will cause a loss of 85 million jobs.\\n[6] \\nBigger fears regarding AIincludes thescenariowhereas machines becomesmarter andsmartertheygoingtoend up being as opinionated and biased like some of the people training it.Automatization of weapons is also a big reason people worry about thefutureofArtificial Intelligence. The idea that weapons can be used to search and targetsomeonewithpre-programmedinstructions andthemisuseofthisbygovernmentsor mafias or rogue AI can be something very deadly and devastating. However,there are many myths in disguise of concerns surrounding AI that spreads panicandmisinformation. AI todayis nowherenear tobecomeasuper-intelligententityand turn into our overlords like in sci-fi movies. However, heavyregulations andcautions are being advised by Big Tech giants like Elon Musk while developingthis industry.\\nArtificial Intelligence and The Future\\nIt is said that AI is thegreatest thinghumankindhas ever workedon. AI is beingused in image and speech recognition and analysis which will be far better thanhuman recognition of image and speech and its applicationstretches wide and far.ThereareresearchandworksbeingconductedusingAIthatisgoingtoplayaveryimportant roleinour futurehealthcare. AI is beingworkedontocureAlzheimer’sdisease and someday even blindness. Someone with dyslexia is being helped toread better with the help of AI. Geneticdatais beinganalyzedbybioinformatics;data science integrated with AI for waybetter dataanalysis inhealthcarethat hasnot been possible for us in the past. Fields like cancer research and other suchdiseases are being impacted greatly by advanced applications of AI. AI can be a'),\n",
       " Document(metadata={'producer': 'Skia/PDF m92 Google Docs Renderer', 'creator': 'PyPDF', 'creationdate': '2021-05-05T13:04:55+01:00', 'moddate': '2021-05-05T13:04:55+01:00', 'subject': 'Article about artificial intelligence (AI) written by Ryerson Computer Science student, Dibbyo Saha, for Science Rendezvous.', 'title': 'A Brief Introduction to Artificial Intelligence', 'source': 'into_to_AI.pdf', 'total_pages': 9, 'page': 6, 'page_label': '7'}, page_content='great tool in the future of education. AI can be used to analyze data fromanindividual’s personal andintellectual needs, capabilities, choicesandlimitationstodevelop customized curriculum, strategies and schedules that will be more wellsuited, appeallingandinclusiveof most, if not all,childrenandadults.TheusesofAI are also going to change the way we are going to commute in the future. Inaddition to self-driving cars, work is being done to manufacture “self-flying”planes anddrones that convenientlydeliver your foodfaster andbetter.Oneofthebiggest concerns about AI is that jobs are being replaced due to automation.However, AI might be creating more jobs than it replaces. This will change theway humans work by creating new types of jobs.\\nSource: https://hackernoon.com/artificial-intelligence-and-big-data-zys3258\\nAI is still in a fairlypreliminary(but rapidlygrowing) stagetodayandit requiresmore and more training to develop. Trainers, engineers, system designers andsoftware developer jobs in machine learning, data science and many suchrelatedfields are being createdinabundance. Newbusiness andinvestment opportunitiesare also on the rise due to endless AI applications in agriculture, education,transportation, finance, biotechnology, cybersecurity, gaming etc. As newbusinesses are being created so are new jobs. Many existing jobs are becoming'),\n",
       " Document(metadata={'producer': 'Skia/PDF m92 Google Docs Renderer', 'creator': 'PyPDF', 'creationdate': '2021-05-05T13:04:55+01:00', 'moddate': '2021-05-05T13:04:55+01:00', 'subject': 'Article about artificial intelligence (AI) written by Ryerson Computer Science student, Dibbyo Saha, for Science Rendezvous.', 'title': 'A Brief Introduction to Artificial Intelligence', 'source': 'into_to_AI.pdf', 'total_pages': 9, 'page': 7, 'page_label': '8'}, page_content='redefined and more specialised which is really important for the new world toprosper and advance.Towards Conclusion…\\nThe growth of Artificial Intelligence in recent times has been exponential. Wecannot evenimaginehowbigandimpactfulAIisgoingtobeinthenearfutureandhowdrasticallyit is goingtochangeandupgradetheworldweliveintoday.Thereare a lot more to learn about AI andits rapidlygrowingapplications inour life. Ibelieve it wouldbewisetoadapt tothis changingworldandacquireskills relatedto Artificial Intelligence and technology. Just like AI learns and develops, weshould too - to make this world a better place.'),\n",
       " Document(metadata={'producer': 'Skia/PDF m92 Google Docs Renderer', 'creator': 'PyPDF', 'creationdate': '2021-05-05T13:04:55+01:00', 'moddate': '2021-05-05T13:04:55+01:00', 'subject': 'Article about artificial intelligence (AI) written by Ryerson Computer Science student, Dibbyo Saha, for Science Rendezvous.', 'title': 'A Brief Introduction to Artificial Intelligence', 'source': 'into_to_AI.pdf', 'total_pages': 9, 'page': 8, 'page_label': '9'}, page_content='References:\\n[1]\\nhttps://news.harvard.edu/gazette/story/2012/09/alan-turing-at-100/\\n[2]\\nhttps://www.ibm.com/ibm/history/ibm100/us/en/icons/deepblue/\\n[3]\\nhttps://www.firstpost.com/tech/news-analysis/siri-google-now-and-cortana-how-digital-assistants-predict-what-you-need-3671725.html\\n[4]\\nhttps://openai.com/blog/introducing-openai/\\n[5]\\nhttps://www.bbc.com/news/technology-35082344\\n[6]\\nhttps://www.forbes.com/sites/jackkelly/2020/10/27/us-lost-over-60-million-jobs-now-robots-tech-and-artificial-intelligence-will-take-millions-more/?sh=57d352421a52')]"
      ]
     },
     "execution_count": 48,
     "metadata": {},
     "output_type": "execute_result"
    }
   ],
   "source": [
    "from langchain.document_loaders import PyPDFLoader\n",
    "loader = PyPDFLoader(\"into_to_AI.pdf\")\n",
    "documents = loader.load()\n",
    "documents"
   ]
  },
  {
   "cell_type": "code",
   "execution_count": 53,
   "metadata": {},
   "outputs": [
    {
     "ename": "AttributeError",
     "evalue": "'list' object has no attribute 'page_content'",
     "output_type": "error",
     "traceback": [
      "\u001b[31m---------------------------------------------------------------------------\u001b[39m",
      "\u001b[31mAttributeError\u001b[39m                            Traceback (most recent call last)",
      "\u001b[36mCell\u001b[39m\u001b[36m \u001b[39m\u001b[32mIn[53]\u001b[39m\u001b[32m, line 1\u001b[39m\n\u001b[32m----> \u001b[39m\u001b[32m1\u001b[39m \u001b[43mdocuments\u001b[49m\u001b[43m.\u001b[49m\u001b[43mpage_content\u001b[49m\n",
      "\u001b[31mAttributeError\u001b[39m: 'list' object has no attribute 'page_content'"
     ]
    }
   ],
   "source": [
    "documents.page_content"
   ]
  },
  {
   "cell_type": "code",
   "execution_count": 67,
   "metadata": {},
   "outputs": [
    {
     "name": "stdout",
     "output_type": "stream",
     "text": [
      "9\n"
     ]
    }
   ],
   "source": [
    "text = []\n",
    "for i in documents:\n",
    "    text.append(i.page_content)\n",
    "\n",
    "print(len(text))\n"
   ]
  },
  {
   "cell_type": "code",
   "execution_count": 68,
   "metadata": {},
   "outputs": [
    {
     "name": "stderr",
     "output_type": "stream",
     "text": [
      "100%|██████████| 1/1 [00:01<00:00,  1.20s/it]\n"
     ]
    }
   ],
   "source": [
    "retriever.add_texts(text)\n"
   ]
  },
  {
   "cell_type": "code",
   "execution_count": 69,
   "metadata": {},
   "outputs": [
    {
     "data": {
      "text/plain": [
       "'redefined and more specialised which is really important for the new world toprosper and advance.Towards Conclusion…\\nThe growth of Artificial Intelligence in recent times has been exponential. Wecannot evenimaginehowbigandimpactfulAIisgoingtobeinthenearfutureandhowdrasticallyit is goingtochangeandupgradetheworldweliveintoday.Thereare a lot more to learn about AI andits rapidlygrowingapplications inour life. Ibelieve it wouldbewisetoadapt tothis changingworldandacquireskills relatedto Artificial Intelligence and technology. Just like AI learns and develops, weshould too - to make this world a better place.'"
      ]
     },
     "execution_count": 69,
     "metadata": {},
     "output_type": "execute_result"
    }
   ],
   "source": [
    "retriever.invoke(\"what is AI?\")[0].page_content"
   ]
  },
  {
   "cell_type": "code",
   "execution_count": 70,
   "metadata": {},
   "outputs": [
    {
     "name": "stderr",
     "output_type": "stream",
     "text": [
      "100%|██████████| 9/9 [00:00<00:00, 389.49it/s]\n",
      "100%|██████████| 1/1 [00:03<00:00,  3.37s/it]\n"
     ]
    },
    {
     "name": "stdout",
     "output_type": "stream",
     "text": [
      "[]\n"
     ]
    }
   ],
   "source": [
    "from ingest import retriever"
   ]
  },
  {
   "cell_type": "code",
   "execution_count": null,
   "metadata": {},
   "outputs": [],
   "source": []
  },
  {
   "cell_type": "code",
   "execution_count": 71,
   "metadata": {},
   "outputs": [
    {
     "data": {
      "text/plain": [
       "[]"
      ]
     },
     "execution_count": 71,
     "metadata": {},
     "output_type": "execute_result"
    }
   ],
   "source": [
    "retriever.invoke(\"what is AI?\")"
   ]
  },
  {
   "cell_type": "code",
   "execution_count": null,
   "metadata": {},
   "outputs": [],
   "source": []
  }
 ],
 "metadata": {
  "kernelspec": {
   "display_name": "Python 3",
   "language": "python",
   "name": "python3"
  },
  "language_info": {
   "codemirror_mode": {
    "name": "ipython",
    "version": 3
   },
   "file_extension": ".py",
   "mimetype": "text/x-python",
   "name": "python",
   "nbconvert_exporter": "python",
   "pygments_lexer": "ipython3",
   "version": "3.12.0"
  }
 },
 "nbformat": 4,
 "nbformat_minor": 2
}
